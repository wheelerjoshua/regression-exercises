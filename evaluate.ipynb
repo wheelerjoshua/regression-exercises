{
 "cells": [
  {
   "cell_type": "markdown",
   "id": "ea3acccf",
   "metadata": {},
   "source": [
    "# Evaluate Regression Models Exercises"
   ]
  },
  {
   "cell_type": "code",
   "execution_count": 1,
   "id": "162e568a",
   "metadata": {},
   "outputs": [],
   "source": [
    "import pandas as pd\n",
    "import numpy as np\n",
    "from scipy import stats\n",
    "from sklearn.metrics import mean_squared_error, r2_score, explained_variance_score\n",
    "from math import sqrt\n",
    "import matplotlib.pyplot as plt\n",
    "import warnings\n",
    "warnings.filterwarnings('ignore')"
   ]
  },
  {
   "cell_type": "markdown",
   "id": "111884c4",
   "metadata": {},
   "source": [
    "### 1. Load the tips dataset from either pydataset or seaborn.\n",
    "\n"
   ]
  },
  {
   "cell_type": "code",
   "execution_count": 2,
   "id": "af735cea",
   "metadata": {},
   "outputs": [],
   "source": [
    "import seaborn as sns\n",
    "df = sns.load_dataset(\"tips\")"
   ]
  },
  {
   "cell_type": "code",
   "execution_count": 3,
   "id": "76c69b35",
   "metadata": {},
   "outputs": [
    {
     "data": {
      "text/html": [
       "<div>\n",
       "<style scoped>\n",
       "    .dataframe tbody tr th:only-of-type {\n",
       "        vertical-align: middle;\n",
       "    }\n",
       "\n",
       "    .dataframe tbody tr th {\n",
       "        vertical-align: top;\n",
       "    }\n",
       "\n",
       "    .dataframe thead th {\n",
       "        text-align: right;\n",
       "    }\n",
       "</style>\n",
       "<table border=\"1\" class=\"dataframe\">\n",
       "  <thead>\n",
       "    <tr style=\"text-align: right;\">\n",
       "      <th></th>\n",
       "      <th>total_bill</th>\n",
       "      <th>tip</th>\n",
       "      <th>sex</th>\n",
       "      <th>smoker</th>\n",
       "      <th>day</th>\n",
       "      <th>time</th>\n",
       "      <th>size</th>\n",
       "    </tr>\n",
       "  </thead>\n",
       "  <tbody>\n",
       "    <tr>\n",
       "      <th>0</th>\n",
       "      <td>16.99</td>\n",
       "      <td>1.01</td>\n",
       "      <td>Female</td>\n",
       "      <td>No</td>\n",
       "      <td>Sun</td>\n",
       "      <td>Dinner</td>\n",
       "      <td>2</td>\n",
       "    </tr>\n",
       "    <tr>\n",
       "      <th>1</th>\n",
       "      <td>10.34</td>\n",
       "      <td>1.66</td>\n",
       "      <td>Male</td>\n",
       "      <td>No</td>\n",
       "      <td>Sun</td>\n",
       "      <td>Dinner</td>\n",
       "      <td>3</td>\n",
       "    </tr>\n",
       "    <tr>\n",
       "      <th>2</th>\n",
       "      <td>21.01</td>\n",
       "      <td>3.50</td>\n",
       "      <td>Male</td>\n",
       "      <td>No</td>\n",
       "      <td>Sun</td>\n",
       "      <td>Dinner</td>\n",
       "      <td>3</td>\n",
       "    </tr>\n",
       "    <tr>\n",
       "      <th>3</th>\n",
       "      <td>23.68</td>\n",
       "      <td>3.31</td>\n",
       "      <td>Male</td>\n",
       "      <td>No</td>\n",
       "      <td>Sun</td>\n",
       "      <td>Dinner</td>\n",
       "      <td>2</td>\n",
       "    </tr>\n",
       "    <tr>\n",
       "      <th>4</th>\n",
       "      <td>24.59</td>\n",
       "      <td>3.61</td>\n",
       "      <td>Female</td>\n",
       "      <td>No</td>\n",
       "      <td>Sun</td>\n",
       "      <td>Dinner</td>\n",
       "      <td>4</td>\n",
       "    </tr>\n",
       "  </tbody>\n",
       "</table>\n",
       "</div>"
      ],
      "text/plain": [
       "   total_bill   tip     sex smoker  day    time  size\n",
       "0       16.99  1.01  Female     No  Sun  Dinner     2\n",
       "1       10.34  1.66    Male     No  Sun  Dinner     3\n",
       "2       21.01  3.50    Male     No  Sun  Dinner     3\n",
       "3       23.68  3.31    Male     No  Sun  Dinner     2\n",
       "4       24.59  3.61  Female     No  Sun  Dinner     4"
      ]
     },
     "execution_count": 3,
     "metadata": {},
     "output_type": "execute_result"
    }
   ],
   "source": [
    "df.head()"
   ]
  },
  {
   "cell_type": "markdown",
   "id": "509aaf74",
   "metadata": {},
   "source": [
    "### 2. Fit a linear regression model (ordinary least squares) and compute yhat, predictions of tip using total_bill.\n",
    "\n",
    "Here is some sample code to get you started:\n",
    "\n",
    "    `from sklearn.linear_model import LinearRegression\n",
    "    assuming X and y are already defined\n",
    "    model = LinearRegression().fit(X, y)\n",
    "    predictions = model.predict(X)`\n",
    "\n",
    "Modify and add to the code above as necessary for it to work with the tips dataset."
   ]
  },
  {
   "cell_type": "code",
   "execution_count": 4,
   "id": "5dbd21e4",
   "metadata": {},
   "outputs": [],
   "source": [
    "from sklearn.model_selection import train_test_split\n",
    "train, test = train_test_split(df, test_size = .2, random_state = 123)\n",
    "train, validate = train_test_split(train, test_size = .3, random_state = 123)"
   ]
  },
  {
   "cell_type": "code",
   "execution_count": 5,
   "id": "0e6f9f15",
   "metadata": {},
   "outputs": [],
   "source": [
    "features = ['total_bill']"
   ]
  },
  {
   "cell_type": "code",
   "execution_count": 6,
   "id": "e58f8ce2",
   "metadata": {},
   "outputs": [],
   "source": [
    "X_train = train[features]\n",
    "y_train = train.tip\n",
    "\n",
    "X_validate = validate[features]\n",
    "y_validate = validate.tip\n",
    "\n",
    "X_test = test[features]\n",
    "y_test = test.tip"
   ]
  },
  {
   "cell_type": "code",
   "execution_count": 7,
   "id": "ac4534d5",
   "metadata": {},
   "outputs": [],
   "source": [
    "from sklearn.linear_model import LinearRegression\n",
    "# assuming X and y are already defined\n",
    "lm = LinearRegression().fit(X_train, y_train)\n",
    "predictions = lm.predict(X_train)\n",
    "train['yhat_baseline'] = train['tip'].mean()\n",
    "train['yhat'] = lm.predict(train[['total_bill']])"
   ]
  },
  {
   "cell_type": "code",
   "execution_count": 8,
   "id": "c9fb937d",
   "metadata": {},
   "outputs": [
    {
     "data": {
      "text/html": [
       "<div>\n",
       "<style scoped>\n",
       "    .dataframe tbody tr th:only-of-type {\n",
       "        vertical-align: middle;\n",
       "    }\n",
       "\n",
       "    .dataframe tbody tr th {\n",
       "        vertical-align: top;\n",
       "    }\n",
       "\n",
       "    .dataframe thead th {\n",
       "        text-align: right;\n",
       "    }\n",
       "</style>\n",
       "<table border=\"1\" class=\"dataframe\">\n",
       "  <thead>\n",
       "    <tr style=\"text-align: right;\">\n",
       "      <th></th>\n",
       "      <th>total_bill</th>\n",
       "      <th>tip</th>\n",
       "      <th>sex</th>\n",
       "      <th>smoker</th>\n",
       "      <th>day</th>\n",
       "      <th>time</th>\n",
       "      <th>size</th>\n",
       "      <th>yhat_baseline</th>\n",
       "      <th>yhat</th>\n",
       "    </tr>\n",
       "  </thead>\n",
       "  <tbody>\n",
       "    <tr>\n",
       "      <th>18</th>\n",
       "      <td>16.97</td>\n",
       "      <td>3.50</td>\n",
       "      <td>Female</td>\n",
       "      <td>No</td>\n",
       "      <td>Sun</td>\n",
       "      <td>Dinner</td>\n",
       "      <td>3</td>\n",
       "      <td>2.946985</td>\n",
       "      <td>2.741254</td>\n",
       "    </tr>\n",
       "    <tr>\n",
       "      <th>172</th>\n",
       "      <td>7.25</td>\n",
       "      <td>5.15</td>\n",
       "      <td>Male</td>\n",
       "      <td>Yes</td>\n",
       "      <td>Sun</td>\n",
       "      <td>Dinner</td>\n",
       "      <td>2</td>\n",
       "      <td>2.946985</td>\n",
       "      <td>1.642824</td>\n",
       "    </tr>\n",
       "    <tr>\n",
       "      <th>118</th>\n",
       "      <td>12.43</td>\n",
       "      <td>1.80</td>\n",
       "      <td>Female</td>\n",
       "      <td>No</td>\n",
       "      <td>Thur</td>\n",
       "      <td>Lunch</td>\n",
       "      <td>2</td>\n",
       "      <td>2.946985</td>\n",
       "      <td>2.228201</td>\n",
       "    </tr>\n",
       "    <tr>\n",
       "      <th>28</th>\n",
       "      <td>21.70</td>\n",
       "      <td>4.30</td>\n",
       "      <td>Male</td>\n",
       "      <td>No</td>\n",
       "      <td>Sat</td>\n",
       "      <td>Dinner</td>\n",
       "      <td>2</td>\n",
       "      <td>2.946985</td>\n",
       "      <td>3.275778</td>\n",
       "    </tr>\n",
       "    <tr>\n",
       "      <th>237</th>\n",
       "      <td>32.83</td>\n",
       "      <td>1.17</td>\n",
       "      <td>Male</td>\n",
       "      <td>Yes</td>\n",
       "      <td>Sat</td>\n",
       "      <td>Dinner</td>\n",
       "      <td>2</td>\n",
       "      <td>2.946985</td>\n",
       "      <td>4.533548</td>\n",
       "    </tr>\n",
       "  </tbody>\n",
       "</table>\n",
       "</div>"
      ],
      "text/plain": [
       "     total_bill   tip     sex smoker   day    time  size  yhat_baseline  \\\n",
       "18        16.97  3.50  Female     No   Sun  Dinner     3       2.946985   \n",
       "172        7.25  5.15    Male    Yes   Sun  Dinner     2       2.946985   \n",
       "118       12.43  1.80  Female     No  Thur   Lunch     2       2.946985   \n",
       "28        21.70  4.30    Male     No   Sat  Dinner     2       2.946985   \n",
       "237       32.83  1.17    Male    Yes   Sat  Dinner     2       2.946985   \n",
       "\n",
       "         yhat  \n",
       "18   2.741254  \n",
       "172  1.642824  \n",
       "118  2.228201  \n",
       "28   3.275778  \n",
       "237  4.533548  "
      ]
     },
     "execution_count": 8,
     "metadata": {},
     "output_type": "execute_result"
    }
   ],
   "source": [
    "train.head()"
   ]
  },
  {
   "cell_type": "markdown",
   "id": "1a46d87c",
   "metadata": {},
   "source": [
    "### 3. Plot the residuals for the linear regression model that you made.\n",
    "\n"
   ]
  },
  {
   "cell_type": "code",
   "execution_count": 9,
   "id": "c82dd275",
   "metadata": {},
   "outputs": [],
   "source": [
    "train['residual'] =  train['tip'] - train['yhat']\n",
    "train['residual_baseline'] = train['tip'] - train['yhat_baseline']"
   ]
  },
  {
   "cell_type": "code",
   "execution_count": 10,
   "id": "aa857333",
   "metadata": {},
   "outputs": [
    {
     "data": {
      "image/png": "[encoded data removed]",
      "text/plain": [
       "<Figure size 720x720 with 1 Axes>"
      ]
     },
     "metadata": {
      "needs_background": "light"
     },
     "output_type": "display_data"
    }
   ],
   "source": [
    "plt.figure(figsize=(10,10))\n",
    "plt.axhline(color = 'green', ls = ':')\n",
    "plt.scatter(x = 'total_bill', y = 'residual', data = train)\n",
    "plt.scatter(x = 'total_bill', y = 'residual_baseline', data = train)\n",
    "plt.legend()\n",
    "plt.xlabel('total bill ($)')\n",
    "plt.ylabel(r'$\\hat{y}-y$')\n",
    "plt.title('Model Residuals');"
   ]
  },
  {
   "cell_type": "markdown",
   "id": "c10d6bfa",
   "metadata": {},
   "source": [
    "### 4. Calculate the sum of squared errors, explained sum of squares, total sum of squares, mean squared error, and root mean squared error for your model.\n",
    "\n",
    "### 5. Calculate the sum of squared errors, mean squared error, and root mean squared error for the baseline model (i.e. a model that always predicts the average tip amount)."
   ]
  },
  {
   "cell_type": "code",
   "execution_count": 11,
   "id": "0633b6a7",
   "metadata": {},
   "outputs": [],
   "source": [
    "# sum of squares error\n",
    "SSE = mean_squared_error(train.tip, train.yhat)*len(train)\n",
    "# SSE baseline\n",
    "SSE_baseline = mean_squared_error(train.tip, train.yhat_baseline)*len(train)\n",
    "\n",
    "\n",
    "# mean squared error\n",
    "MSE = mean_squared_error(train.tip, train.yhat)\n",
    "# MSE baseline\n",
    "MSE_baseline = mean_squared_error(train.tip, train.yhat_baseline)\n",
    "\n",
    "\n",
    "# root mean squared error\n",
    "RMSE = sqrt(mean_squared_error(train.tip, train.yhat))\n",
    "# RMSE baseline\n",
    "RMSE_baseline = sqrt(mean_squared_error(train.tip, train.yhat_baseline))\n",
    "\n",
    "# explained sum of squares\n",
    "ESS = sum((train.yhat - train.tip.mean())**2)\n"
   ]
  },
  {
   "cell_type": "markdown",
   "id": "86423799",
   "metadata": {},
   "source": [
    "### 6. Write python code that compares the sum of squared errors for your model against the sum of squared errors for the baseline model and outputs whether or not your model performs better than the baseline model."
   ]
  },
  {
   "cell_type": "code",
   "execution_count": 12,
   "id": "722c1f8e",
   "metadata": {},
   "outputs": [
    {
     "name": "stdout",
     "output_type": "stream",
     "text": [
      "  metric  model_error\n",
      "0    SSE   153.536640\n",
      "1    MSE     1.128946\n",
      "2   RMSE     1.062519\n",
      "          metric  model_error\n",
      "0   SSE_baseline   286.431664\n",
      "1   MSE_baseline     2.106115\n",
      "2  RMSE_baseline     1.451246\n"
     ]
    }
   ],
   "source": [
    "df_eval = pd.DataFrame(np.array(['SSE','MSE','RMSE']), columns=['metric'])\n",
    "df_baseline_eval = pd.DataFrame(np.array(['SSE_baseline','MSE_baseline','RMSE_baseline']), columns=['metric'])\n",
    "\n",
    "df_eval['model_error'] = np.array([SSE, MSE, RMSE])\n",
    "df_baseline_eval['model_error'] = np.array([SSE_baseline, MSE_baseline, RMSE_baseline])\n",
    "\n",
    "print(df_eval)\n",
    "print(df_baseline_eval)"
   ]
  },
  {
   "cell_type": "markdown",
   "id": "b8058865",
   "metadata": {},
   "source": [
    "### 7. What is the amount of variance explained in your model?"
   ]
  },
  {
   "cell_type": "code",
   "execution_count": 13,
   "id": "52321e9a",
   "metadata": {},
   "outputs": [
    {
     "data": {
      "text/plain": [
       "0.4639676437939072"
      ]
     },
     "execution_count": 13,
     "metadata": {},
     "output_type": "execute_result"
    }
   ],
   "source": [
    "# evs = explained_variance_score(train.tip, train.yhat)\n",
    "# print('Explained Variance = ', round(evs,3))\n",
    "\n",
    "r2_score(train.tip, train.yhat)\n"
   ]
  },
  {
   "cell_type": "markdown",
   "id": "72c6c4b0",
   "metadata": {},
   "source": [
    "### 8. Is your model better than the baseline model?\n",
    "\n",
    "Yes"
   ]
  },
  {
   "cell_type": "code",
   "execution_count": 14,
   "id": "e9c173ad",
   "metadata": {},
   "outputs": [
    {
     "data": {
      "text/html": [
       "<div>\n",
       "<style scoped>\n",
       "    .dataframe tbody tr th:only-of-type {\n",
       "        vertical-align: middle;\n",
       "    }\n",
       "\n",
       "    .dataframe tbody tr th {\n",
       "        vertical-align: top;\n",
       "    }\n",
       "\n",
       "    .dataframe thead th {\n",
       "        text-align: right;\n",
       "    }\n",
       "</style>\n",
       "<table border=\"1\" class=\"dataframe\">\n",
       "  <thead>\n",
       "    <tr style=\"text-align: right;\">\n",
       "      <th></th>\n",
       "      <th>metric</th>\n",
       "      <th>model_error</th>\n",
       "      <th>error_delta</th>\n",
       "      <th>better_than_baseline</th>\n",
       "    </tr>\n",
       "  </thead>\n",
       "  <tbody>\n",
       "    <tr>\n",
       "      <th>0</th>\n",
       "      <td>SSE</td>\n",
       "      <td>153.536640</td>\n",
       "      <td>-132.895024</td>\n",
       "      <td>True</td>\n",
       "    </tr>\n",
       "    <tr>\n",
       "      <th>1</th>\n",
       "      <td>MSE</td>\n",
       "      <td>1.128946</td>\n",
       "      <td>-0.977169</td>\n",
       "      <td>True</td>\n",
       "    </tr>\n",
       "    <tr>\n",
       "      <th>2</th>\n",
       "      <td>RMSE</td>\n",
       "      <td>1.062519</td>\n",
       "      <td>-0.388727</td>\n",
       "      <td>True</td>\n",
       "    </tr>\n",
       "  </tbody>\n",
       "</table>\n",
       "</div>"
      ],
      "text/plain": [
       "  metric  model_error  error_delta  better_than_baseline\n",
       "0    SSE   153.536640  -132.895024                  True\n",
       "1    MSE     1.128946    -0.977169                  True\n",
       "2   RMSE     1.062519    -0.388727                  True"
      ]
     },
     "execution_count": 14,
     "metadata": {},
     "output_type": "execute_result"
    }
   ],
   "source": [
    "df_eval['error_delta'] = df_eval.model_error - df_baseline_eval.model_error\n",
    "df_eval['better_than_baseline'] = df_baseline_eval.model_error > df_eval.model_error\n",
    "df_eval"
   ]
  },
  {
   "cell_type": "markdown",
   "id": "f2017ddc",
   "metadata": {},
   "source": [
    "### 9. Create a file named evaluate.py that contains the following functions.\n",
    "\n",
    "- plot_residuals(y, yhat): creates a residual plot\n",
    "- regression_errors(y, yhat): returns the following values:\n",
    "- sum of squared errors (SSE)\n",
    "- explained sum of squares (ESS)\n",
    "- total sum of squares (TSS)\n",
    "- mean squared error (MSE)\n",
    "- root mean squared error (RMSE)\n",
    "- baseline_mean_errors(y): computes the SSE, MSE, and RMSE for the baseline model\n",
    "- better_than_baseline(y, yhat): returns true if your model performs better than the baseline, otherwise false"
   ]
  },
  {
   "cell_type": "code",
   "execution_count": 15,
   "id": "6f94040b",
   "metadata": {},
   "outputs": [],
   "source": [
    "def plot_residuals(df, y, yhat):\n",
    "    plt.figure(figsize=(10,10))\n",
    "    plt.axhline(color = 'green')\n",
    "    plt.scatter(df[y], df[yhat], data = df)\n",
    "    plt.xlabel(f'{y}')\n",
    "    plt.ylabel(r'$\\hat{y}-y$')\n",
    "    plt.title('Model Residuals')\n",
    "    return plt.show()"
   ]
  },
  {
   "cell_type": "code",
   "execution_count": 16,
   "id": "ff88d4d2",
   "metadata": {},
   "outputs": [],
   "source": [
    "def regression_errors(y, yhat):\n",
    "    # sum of squares error\n",
    "    SSE = mean_squared_error(y, yhat)*len(train)\n",
    "    # explained sum of squares\n",
    "    ESS = sum((yhat - y.mean())**2)\n",
    "    # mean squared error\n",
    "    MSE = mean_squared_error(y, yhat)\n",
    "    # root mean squared error\n",
    "    RMSE = sqrt(mean_squared_error(y, yhat))\n",
    "    return SSE, ESS, MSE, RMSE\n"
   ]
  },
  {
   "cell_type": "code",
   "execution_count": 17,
   "id": "b6980f9e",
   "metadata": {},
   "outputs": [],
   "source": [
    "def baseline_mean_errors(y):\n",
    "    # SSE baseline\n",
    "    SSE_baseline = mean_squared_error(y, y.mean())*len(y)\n",
    "    # MSE baseline\n",
    "    MSE_baseline = mean_squared_error(y, y.mean())\n",
    "    # RMSE baseline\n",
    "    RMSE_baseline = sqrt(mean_squared_error(y, y.mean()))\n",
    "    return SSE_baseline, MSE_baseline, RMSE_baseline"
   ]
  },
  {
   "cell_type": "code",
   "execution_count": 18,
   "id": "02659564",
   "metadata": {},
   "outputs": [],
   "source": [
    "def better_than_baseline(y, yhat):\n",
    "    SSE, ESS, MSE, RMSE = regression_errors(y, yhat)\n",
    "    SSE_baseline, MSE_baseline, RMSE_baseline = baseline_mean_errors(y, yhat)\n",
    "    if [SSE, MSE, RMSE] < [SSE_baseline, MSE_baseline, RMSE_baseline]:\n",
    "        return True"
   ]
  },
  {
   "cell_type": "code",
   "execution_count": 19,
   "id": "4a467a6e",
   "metadata": {},
   "outputs": [],
   "source": [
    "import evaluate"
   ]
  },
  {
   "cell_type": "markdown",
   "id": "17463df3",
   "metadata": {},
   "source": [
    "### 10. Load the mpg dataset and fit a model that predicts highway mileage based on engine displacement. Take a look at all the regression evaluation metrics, and determine whether this model is better than the baseline model. Use the functions from your evaluate.py to help accomplish this."
   ]
  },
  {
   "cell_type": "code",
   "execution_count": 20,
   "id": "8792f5fa",
   "metadata": {},
   "outputs": [],
   "source": [
    "from pydataset import data"
   ]
  },
  {
   "cell_type": "code",
   "execution_count": 21,
   "id": "a92ff3c1",
   "metadata": {},
   "outputs": [
    {
     "data": {
      "text/html": [
       "<div>\n",
       "<style scoped>\n",
       "    .dataframe tbody tr th:only-of-type {\n",
       "        vertical-align: middle;\n",
       "    }\n",
       "\n",
       "    .dataframe tbody tr th {\n",
       "        vertical-align: top;\n",
       "    }\n",
       "\n",
       "    .dataframe thead th {\n",
       "        text-align: right;\n",
       "    }\n",
       "</style>\n",
       "<table border=\"1\" class=\"dataframe\">\n",
       "  <thead>\n",
       "    <tr style=\"text-align: right;\">\n",
       "      <th></th>\n",
       "      <th>manufacturer</th>\n",
       "      <th>model</th>\n",
       "      <th>displ</th>\n",
       "      <th>year</th>\n",
       "      <th>cyl</th>\n",
       "      <th>trans</th>\n",
       "      <th>drv</th>\n",
       "      <th>cty</th>\n",
       "      <th>hwy</th>\n",
       "      <th>fl</th>\n",
       "      <th>class</th>\n",
       "    </tr>\n",
       "  </thead>\n",
       "  <tbody>\n",
       "    <tr>\n",
       "      <th>1</th>\n",
       "      <td>audi</td>\n",
       "      <td>a4</td>\n",
       "      <td>1.8</td>\n",
       "      <td>1999</td>\n",
       "      <td>4</td>\n",
       "      <td>auto(l5)</td>\n",
       "      <td>f</td>\n",
       "      <td>18</td>\n",
       "      <td>29</td>\n",
       "      <td>p</td>\n",
       "      <td>compact</td>\n",
       "    </tr>\n",
       "    <tr>\n",
       "      <th>2</th>\n",
       "      <td>audi</td>\n",
       "      <td>a4</td>\n",
       "      <td>1.8</td>\n",
       "      <td>1999</td>\n",
       "      <td>4</td>\n",
       "      <td>manual(m5)</td>\n",
       "      <td>f</td>\n",
       "      <td>21</td>\n",
       "      <td>29</td>\n",
       "      <td>p</td>\n",
       "      <td>compact</td>\n",
       "    </tr>\n",
       "    <tr>\n",
       "      <th>3</th>\n",
       "      <td>audi</td>\n",
       "      <td>a4</td>\n",
       "      <td>2.0</td>\n",
       "      <td>2008</td>\n",
       "      <td>4</td>\n",
       "      <td>manual(m6)</td>\n",
       "      <td>f</td>\n",
       "      <td>20</td>\n",
       "      <td>31</td>\n",
       "      <td>p</td>\n",
       "      <td>compact</td>\n",
       "    </tr>\n",
       "    <tr>\n",
       "      <th>4</th>\n",
       "      <td>audi</td>\n",
       "      <td>a4</td>\n",
       "      <td>2.0</td>\n",
       "      <td>2008</td>\n",
       "      <td>4</td>\n",
       "      <td>auto(av)</td>\n",
       "      <td>f</td>\n",
       "      <td>21</td>\n",
       "      <td>30</td>\n",
       "      <td>p</td>\n",
       "      <td>compact</td>\n",
       "    </tr>\n",
       "    <tr>\n",
       "      <th>5</th>\n",
       "      <td>audi</td>\n",
       "      <td>a4</td>\n",
       "      <td>2.8</td>\n",
       "      <td>1999</td>\n",
       "      <td>6</td>\n",
       "      <td>auto(l5)</td>\n",
       "      <td>f</td>\n",
       "      <td>16</td>\n",
       "      <td>26</td>\n",
       "      <td>p</td>\n",
       "      <td>compact</td>\n",
       "    </tr>\n",
       "  </tbody>\n",
       "</table>\n",
       "</div>"
      ],
      "text/plain": [
       "  manufacturer model  displ  year  cyl       trans drv  cty  hwy fl    class\n",
       "1         audi    a4    1.8  1999    4    auto(l5)   f   18   29  p  compact\n",
       "2         audi    a4    1.8  1999    4  manual(m5)   f   21   29  p  compact\n",
       "3         audi    a4    2.0  2008    4  manual(m6)   f   20   31  p  compact\n",
       "4         audi    a4    2.0  2008    4    auto(av)   f   21   30  p  compact\n",
       "5         audi    a4    2.8  1999    6    auto(l5)   f   16   26  p  compact"
      ]
     },
     "execution_count": 21,
     "metadata": {},
     "output_type": "execute_result"
    }
   ],
   "source": [
    "df = data('mpg')\n",
    "df.head()"
   ]
  },
  {
   "cell_type": "code",
   "execution_count": 22,
   "id": "24ae067d",
   "metadata": {},
   "outputs": [],
   "source": [
    "X = df[['displ']]\n",
    "y = df[['hwy']]"
   ]
  },
  {
   "cell_type": "code",
   "execution_count": 23,
   "id": "b71862c2",
   "metadata": {},
   "outputs": [],
   "source": [
    "model = LinearRegression().fit(X, y)\n",
    "predictions = model.predict(X)\n",
    "ols_model = LinearRegression().fit(df[['displ']], df.hwy)\n",
    "df['yhat_baseline'] = df['hwy'].mean()\n",
    "df['yhat'] = ols_model.predict(df[['displ']])"
   ]
  },
  {
   "cell_type": "code",
   "execution_count": 24,
   "id": "f3b9f09c",
   "metadata": {},
   "outputs": [],
   "source": [
    "# evaluate.plot_residuals(df,df.hwy,df.yhat)"
   ]
  },
  {
   "cell_type": "code",
   "execution_count": 25,
   "id": "947fd828",
   "metadata": {},
   "outputs": [
    {
     "ename": "ValueError",
     "evalue": "Found input variables with inconsistent numbers of samples: [234, 1]",
     "output_type": "error",
     "traceback": [
      "\u001b[0;31m---------------------------------------------------------------------------\u001b[0m",
      "\u001b[0;31mValueError\u001b[0m                                Traceback (most recent call last)",
      "\u001b[0;32m<ipython-input-25-5588c712ff20>\u001b[0m in \u001b[0;36m<module>\u001b[0;34m\u001b[0m\n\u001b[0;32m----> 1\u001b[0;31m \u001b[0mevaluate\u001b[0m\u001b[0;34m.\u001b[0m\u001b[0mbetter_than_baseline\u001b[0m\u001b[0;34m(\u001b[0m\u001b[0my\u001b[0m\u001b[0;34m,\u001b[0m \u001b[0mdf\u001b[0m\u001b[0;34m.\u001b[0m\u001b[0myhat\u001b[0m\u001b[0;34m)\u001b[0m\u001b[0;34m\u001b[0m\u001b[0;34m\u001b[0m\u001b[0m\n\u001b[0m",
      "\u001b[0;32m~/codeup-data-science/regression-exercises/evaluate.py\u001b[0m in \u001b[0;36mbetter_than_baseline\u001b[0;34m(y, yhat)\u001b[0m\n\u001b[1;32m     58\u001b[0m     '''\n\u001b[1;32m     59\u001b[0m     \u001b[0mSSE\u001b[0m\u001b[0;34m,\u001b[0m \u001b[0mESS\u001b[0m\u001b[0;34m,\u001b[0m \u001b[0mMSE\u001b[0m\u001b[0;34m,\u001b[0m \u001b[0mRMSE\u001b[0m \u001b[0;34m=\u001b[0m \u001b[0mregression_errors\u001b[0m\u001b[0;34m(\u001b[0m\u001b[0my\u001b[0m\u001b[0;34m,\u001b[0m \u001b[0myhat\u001b[0m\u001b[0;34m)\u001b[0m\u001b[0;34m\u001b[0m\u001b[0;34m\u001b[0m\u001b[0m\n\u001b[0;32m---> 60\u001b[0;31m     \u001b[0mSSE_baseline\u001b[0m\u001b[0;34m,\u001b[0m \u001b[0mMSE_baseline\u001b[0m\u001b[0;34m,\u001b[0m \u001b[0mRMSE_baseline\u001b[0m \u001b[0;34m=\u001b[0m \u001b[0mbaseline_mean_errors\u001b[0m\u001b[0;34m(\u001b[0m\u001b[0my\u001b[0m\u001b[0;34m)\u001b[0m\u001b[0;34m\u001b[0m\u001b[0;34m\u001b[0m\u001b[0m\n\u001b[0m\u001b[1;32m     61\u001b[0m     \u001b[0;32mif\u001b[0m \u001b[0;34m[\u001b[0m\u001b[0mSSE\u001b[0m\u001b[0;34m,\u001b[0m \u001b[0mMSE\u001b[0m\u001b[0;34m,\u001b[0m \u001b[0mRMSE\u001b[0m\u001b[0;34m]\u001b[0m \u001b[0;34m<\u001b[0m \u001b[0;34m[\u001b[0m\u001b[0mSSE_baseline\u001b[0m\u001b[0;34m,\u001b[0m \u001b[0mMSE_baseline\u001b[0m\u001b[0;34m,\u001b[0m \u001b[0mRMSE_baseline\u001b[0m\u001b[0;34m]\u001b[0m\u001b[0;34m:\u001b[0m\u001b[0;34m\u001b[0m\u001b[0;34m\u001b[0m\u001b[0m\n\u001b[1;32m     62\u001b[0m         \u001b[0;32mreturn\u001b[0m \u001b[0;32mTrue\u001b[0m\u001b[0;34m\u001b[0m\u001b[0;34m\u001b[0m\u001b[0m\n",
      "\u001b[0;32m~/codeup-data-science/regression-exercises/evaluate.py\u001b[0m in \u001b[0;36mbaseline_mean_errors\u001b[0;34m(y)\u001b[0m\n\u001b[1;32m     43\u001b[0m     '''\n\u001b[1;32m     44\u001b[0m     \u001b[0;31m# SSE baseline\u001b[0m\u001b[0;34m\u001b[0m\u001b[0;34m\u001b[0m\u001b[0;34m\u001b[0m\u001b[0m\n\u001b[0;32m---> 45\u001b[0;31m     \u001b[0mSSE_baseline\u001b[0m \u001b[0;34m=\u001b[0m \u001b[0mmean_squared_error\u001b[0m\u001b[0;34m(\u001b[0m\u001b[0my\u001b[0m\u001b[0;34m,\u001b[0m \u001b[0;34m[\u001b[0m\u001b[0;34m[\u001b[0m\u001b[0my\u001b[0m\u001b[0;34m.\u001b[0m\u001b[0mmean\u001b[0m\u001b[0;34m(\u001b[0m\u001b[0;34m)\u001b[0m\u001b[0;34m]\u001b[0m\u001b[0;34m]\u001b[0m\u001b[0;34m)\u001b[0m\u001b[0;34m*\u001b[0m \u001b[0mlen\u001b[0m\u001b[0;34m(\u001b[0m\u001b[0my\u001b[0m\u001b[0;34m)\u001b[0m\u001b[0;34m\u001b[0m\u001b[0;34m\u001b[0m\u001b[0m\n\u001b[0m\u001b[1;32m     46\u001b[0m     \u001b[0;31m# MSE baseline\u001b[0m\u001b[0;34m\u001b[0m\u001b[0;34m\u001b[0m\u001b[0;34m\u001b[0m\u001b[0m\n\u001b[1;32m     47\u001b[0m     \u001b[0mMSE_baseline\u001b[0m \u001b[0;34m=\u001b[0m \u001b[0mmean_squared_error\u001b[0m\u001b[0;34m(\u001b[0m\u001b[0my\u001b[0m\u001b[0;34m,\u001b[0m \u001b[0my\u001b[0m\u001b[0;34m.\u001b[0m\u001b[0mmean\u001b[0m\u001b[0;34m(\u001b[0m\u001b[0;34m)\u001b[0m\u001b[0;34m)\u001b[0m\u001b[0;34m\u001b[0m\u001b[0;34m\u001b[0m\u001b[0m\n",
      "\u001b[0;32m/opt/homebrew/anaconda3/lib/python3.8/site-packages/sklearn/utils/validation.py\u001b[0m in \u001b[0;36minner_f\u001b[0;34m(*args, **kwargs)\u001b[0m\n\u001b[1;32m     61\u001b[0m             \u001b[0mextra_args\u001b[0m \u001b[0;34m=\u001b[0m \u001b[0mlen\u001b[0m\u001b[0;34m(\u001b[0m\u001b[0margs\u001b[0m\u001b[0;34m)\u001b[0m \u001b[0;34m-\u001b[0m \u001b[0mlen\u001b[0m\u001b[0;34m(\u001b[0m\u001b[0mall_args\u001b[0m\u001b[0;34m)\u001b[0m\u001b[0;34m\u001b[0m\u001b[0;34m\u001b[0m\u001b[0m\n\u001b[1;32m     62\u001b[0m             \u001b[0;32mif\u001b[0m \u001b[0mextra_args\u001b[0m \u001b[0;34m<=\u001b[0m \u001b[0;36m0\u001b[0m\u001b[0;34m:\u001b[0m\u001b[0;34m\u001b[0m\u001b[0;34m\u001b[0m\u001b[0m\n\u001b[0;32m---> 63\u001b[0;31m                 \u001b[0;32mreturn\u001b[0m \u001b[0mf\u001b[0m\u001b[0;34m(\u001b[0m\u001b[0;34m*\u001b[0m\u001b[0margs\u001b[0m\u001b[0;34m,\u001b[0m \u001b[0;34m**\u001b[0m\u001b[0mkwargs\u001b[0m\u001b[0;34m)\u001b[0m\u001b[0;34m\u001b[0m\u001b[0;34m\u001b[0m\u001b[0m\n\u001b[0m\u001b[1;32m     64\u001b[0m \u001b[0;34m\u001b[0m\u001b[0m\n\u001b[1;32m     65\u001b[0m             \u001b[0;31m# extra_args > 0\u001b[0m\u001b[0;34m\u001b[0m\u001b[0;34m\u001b[0m\u001b[0;34m\u001b[0m\u001b[0m\n",
      "\u001b[0;32m/opt/homebrew/anaconda3/lib/python3.8/site-packages/sklearn/metrics/_regression.py\u001b[0m in \u001b[0;36mmean_squared_error\u001b[0;34m(y_true, y_pred, sample_weight, multioutput, squared)\u001b[0m\n\u001b[1;32m    333\u001b[0m     \u001b[0;36m0.825\u001b[0m\u001b[0;34m...\u001b[0m\u001b[0;34m\u001b[0m\u001b[0;34m\u001b[0m\u001b[0m\n\u001b[1;32m    334\u001b[0m     \"\"\"\n\u001b[0;32m--> 335\u001b[0;31m     y_type, y_true, y_pred, multioutput = _check_reg_targets(\n\u001b[0m\u001b[1;32m    336\u001b[0m         y_true, y_pred, multioutput)\n\u001b[1;32m    337\u001b[0m     \u001b[0mcheck_consistent_length\u001b[0m\u001b[0;34m(\u001b[0m\u001b[0my_true\u001b[0m\u001b[0;34m,\u001b[0m \u001b[0my_pred\u001b[0m\u001b[0;34m,\u001b[0m \u001b[0msample_weight\u001b[0m\u001b[0;34m)\u001b[0m\u001b[0;34m\u001b[0m\u001b[0;34m\u001b[0m\u001b[0m\n",
      "\u001b[0;32m/opt/homebrew/anaconda3/lib/python3.8/site-packages/sklearn/metrics/_regression.py\u001b[0m in \u001b[0;36m_check_reg_targets\u001b[0;34m(y_true, y_pred, multioutput, dtype)\u001b[0m\n\u001b[1;32m     86\u001b[0m         \u001b[0mthe\u001b[0m \u001b[0mdtype\u001b[0m \u001b[0margument\u001b[0m \u001b[0mpassed\u001b[0m \u001b[0mto\u001b[0m \u001b[0mcheck_array\u001b[0m\u001b[0;34m.\u001b[0m\u001b[0;34m\u001b[0m\u001b[0;34m\u001b[0m\u001b[0m\n\u001b[1;32m     87\u001b[0m     \"\"\"\n\u001b[0;32m---> 88\u001b[0;31m     \u001b[0mcheck_consistent_length\u001b[0m\u001b[0;34m(\u001b[0m\u001b[0my_true\u001b[0m\u001b[0;34m,\u001b[0m \u001b[0my_pred\u001b[0m\u001b[0;34m)\u001b[0m\u001b[0;34m\u001b[0m\u001b[0;34m\u001b[0m\u001b[0m\n\u001b[0m\u001b[1;32m     89\u001b[0m     \u001b[0my_true\u001b[0m \u001b[0;34m=\u001b[0m \u001b[0mcheck_array\u001b[0m\u001b[0;34m(\u001b[0m\u001b[0my_true\u001b[0m\u001b[0;34m,\u001b[0m \u001b[0mensure_2d\u001b[0m\u001b[0;34m=\u001b[0m\u001b[0;32mFalse\u001b[0m\u001b[0;34m,\u001b[0m \u001b[0mdtype\u001b[0m\u001b[0;34m=\u001b[0m\u001b[0mdtype\u001b[0m\u001b[0;34m)\u001b[0m\u001b[0;34m\u001b[0m\u001b[0;34m\u001b[0m\u001b[0m\n\u001b[1;32m     90\u001b[0m     \u001b[0my_pred\u001b[0m \u001b[0;34m=\u001b[0m \u001b[0mcheck_array\u001b[0m\u001b[0;34m(\u001b[0m\u001b[0my_pred\u001b[0m\u001b[0;34m,\u001b[0m \u001b[0mensure_2d\u001b[0m\u001b[0;34m=\u001b[0m\u001b[0;32mFalse\u001b[0m\u001b[0;34m,\u001b[0m \u001b[0mdtype\u001b[0m\u001b[0;34m=\u001b[0m\u001b[0mdtype\u001b[0m\u001b[0;34m)\u001b[0m\u001b[0;34m\u001b[0m\u001b[0;34m\u001b[0m\u001b[0m\n",
      "\u001b[0;32m/opt/homebrew/anaconda3/lib/python3.8/site-packages/sklearn/utils/validation.py\u001b[0m in \u001b[0;36mcheck_consistent_length\u001b[0;34m(*arrays)\u001b[0m\n\u001b[1;32m    260\u001b[0m     \u001b[0muniques\u001b[0m \u001b[0;34m=\u001b[0m \u001b[0mnp\u001b[0m\u001b[0;34m.\u001b[0m\u001b[0munique\u001b[0m\u001b[0;34m(\u001b[0m\u001b[0mlengths\u001b[0m\u001b[0;34m)\u001b[0m\u001b[0;34m\u001b[0m\u001b[0;34m\u001b[0m\u001b[0m\n\u001b[1;32m    261\u001b[0m     \u001b[0;32mif\u001b[0m \u001b[0mlen\u001b[0m\u001b[0;34m(\u001b[0m\u001b[0muniques\u001b[0m\u001b[0;34m)\u001b[0m \u001b[0;34m>\u001b[0m \u001b[0;36m1\u001b[0m\u001b[0;34m:\u001b[0m\u001b[0;34m\u001b[0m\u001b[0;34m\u001b[0m\u001b[0m\n\u001b[0;32m--> 262\u001b[0;31m         raise ValueError(\"Found input variables with inconsistent numbers of\"\n\u001b[0m\u001b[1;32m    263\u001b[0m                          \" samples: %r\" % [int(l) for l in lengths])\n\u001b[1;32m    264\u001b[0m \u001b[0;34m\u001b[0m\u001b[0m\n",
      "\u001b[0;31mValueError\u001b[0m: Found input variables with inconsistent numbers of samples: [234, 1]"
     ]
    }
   ],
   "source": [
    "evaluate.better_than_baseline(y, df.yhat)"
   ]
  },
  {
   "cell_type": "code",
   "execution_count": null,
   "id": "9cc0b24b",
   "metadata": {},
   "outputs": [],
   "source": []
  }
 ],
 "metadata": {
  "kernelspec": {
   "display_name": "Python 3",
   "language": "python",
   "name": "python3"
  },
  "language_info": {
   "codemirror_mode": {
    "name": "ipython",
    "version": 3
   },
   "file_extension": ".py",
   "mimetype": "text/x-python",
   "name": "python",
   "nbconvert_exporter": "python",
   "pygments_lexer": "ipython3",
   "version": "3.8.8"
  }
 },
 "nbformat": 4,
 "nbformat_minor": 5
}
