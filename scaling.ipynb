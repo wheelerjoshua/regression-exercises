{
 "cells": [
  {
   "cell_type": "markdown",
   "id": "05317074",
   "metadata": {},
   "source": [
    "# Scaling Exercises"
   ]
  },
  {
   "cell_type": "code",
   "execution_count": 1,
   "id": "3d32a1e4",
   "metadata": {},
   "outputs": [],
   "source": [
    "## Import modules\n",
    "import numpy as np\n",
    "import pandas as pd\n",
    "import pydataset\n",
    "import seaborn as sns\n",
    "import matplotlib.pyplot as plt\n",
    "\n",
    "import sklearn.preprocessing\n",
    "\n",
    "from wrangle import wrangle_zillow\n",
    "\n",
    "\n",
    "import warnings\n",
    "warnings.filterwarnings(\"ignore\")"
   ]
  },
  {
   "cell_type": "code",
   "execution_count": 2,
   "id": "2c9e23e9",
   "metadata": {},
   "outputs": [],
   "source": [
    "# obtain datasets\n",
    "train, validate, test = wrangle_zillow()"
   ]
  },
  {
   "cell_type": "code",
   "execution_count": 3,
   "id": "47c632c3",
   "metadata": {},
   "outputs": [
    {
     "data": {
      "text/html": [
       "<div>\n",
       "<style scoped>\n",
       "    .dataframe tbody tr th:only-of-type {\n",
       "        vertical-align: middle;\n",
       "    }\n",
       "\n",
       "    .dataframe tbody tr th {\n",
       "        vertical-align: top;\n",
       "    }\n",
       "\n",
       "    .dataframe thead th {\n",
       "        text-align: right;\n",
       "    }\n",
       "</style>\n",
       "<table border=\"1\" class=\"dataframe\">\n",
       "  <thead>\n",
       "    <tr style=\"text-align: right;\">\n",
       "      <th></th>\n",
       "      <th>bedroomcnt</th>\n",
       "      <th>bathroomcnt</th>\n",
       "      <th>calculatedfinishedsquarefeet</th>\n",
       "      <th>taxvaluedollarcnt</th>\n",
       "      <th>yearbuilt</th>\n",
       "      <th>taxamount</th>\n",
       "      <th>fips</th>\n",
       "    </tr>\n",
       "  </thead>\n",
       "  <tbody>\n",
       "    <tr>\n",
       "      <th>1462930</th>\n",
       "      <td>3</td>\n",
       "      <td>2</td>\n",
       "      <td>1385</td>\n",
       "      <td>123859</td>\n",
       "      <td>1956</td>\n",
       "      <td>1553.44</td>\n",
       "      <td>6059</td>\n",
       "    </tr>\n",
       "    <tr>\n",
       "      <th>1842132</th>\n",
       "      <td>4</td>\n",
       "      <td>2</td>\n",
       "      <td>1567</td>\n",
       "      <td>251569</td>\n",
       "      <td>1946</td>\n",
       "      <td>3074.99</td>\n",
       "      <td>6037</td>\n",
       "    </tr>\n",
       "    <tr>\n",
       "      <th>869730</th>\n",
       "      <td>4</td>\n",
       "      <td>2</td>\n",
       "      <td>1910</td>\n",
       "      <td>762153</td>\n",
       "      <td>1958</td>\n",
       "      <td>8578.06</td>\n",
       "      <td>6059</td>\n",
       "    </tr>\n",
       "    <tr>\n",
       "      <th>1306111</th>\n",
       "      <td>3</td>\n",
       "      <td>2</td>\n",
       "      <td>2042</td>\n",
       "      <td>751716</td>\n",
       "      <td>1936</td>\n",
       "      <td>9122.39</td>\n",
       "      <td>6037</td>\n",
       "    </tr>\n",
       "    <tr>\n",
       "      <th>431629</th>\n",
       "      <td>3</td>\n",
       "      <td>2</td>\n",
       "      <td>1502</td>\n",
       "      <td>351732</td>\n",
       "      <td>1956</td>\n",
       "      <td>4343.63</td>\n",
       "      <td>6037</td>\n",
       "    </tr>\n",
       "  </tbody>\n",
       "</table>\n",
       "</div>"
      ],
      "text/plain": [
       "         bedroomcnt  bathroomcnt  calculatedfinishedsquarefeet  \\\n",
       "1462930           3            2                          1385   \n",
       "1842132           4            2                          1567   \n",
       "869730            4            2                          1910   \n",
       "1306111           3            2                          2042   \n",
       "431629            3            2                          1502   \n",
       "\n",
       "         taxvaluedollarcnt  yearbuilt  taxamount  fips  \n",
       "1462930             123859       1956    1553.44  6059  \n",
       "1842132             251569       1946    3074.99  6037  \n",
       "869730              762153       1958    8578.06  6059  \n",
       "1306111             751716       1936    9122.39  6037  \n",
       "431629              351732       1956    4343.63  6037  "
      ]
     },
     "execution_count": 3,
     "metadata": {},
     "output_type": "execute_result"
    }
   ],
   "source": [
    "train.head()"
   ]
  },
  {
   "cell_type": "markdown",
   "id": "8081089a",
   "metadata": {},
   "source": [
    "### 1. Apply the scalers we talked about in this lesson to your data and visualize the results for the unscaled and scaled distribution."
   ]
  },
  {
   "cell_type": "code",
   "execution_count": 4,
   "id": "aa35c8de",
   "metadata": {},
   "outputs": [
    {
     "data": {
      "text/plain": [
       "<AxesSubplot:ylabel='Frequency'>"
      ]
     },
     "execution_count": 4,
     "metadata": {},
     "output_type": "execute_result"
    },
    {
     "data": {
      "image/png": "[encoded data removed]",
      "text/plain": [
       "<Figure size 720x720 with 1 Axes>"
      ]
     },
     "metadata": {
      "needs_background": "light"
     },
     "output_type": "display_data"
    }
   ],
   "source": [
    "# observe two fields\n",
    "plt.figure(figsize=(10,10))\n",
    "# $ taxed\n",
    "train.taxamount.plot.hist()\n",
    "# sq ft\n",
    "train.calculatedfinishedsquarefeet.plot.hist()"
   ]
  },
  {
   "cell_type": "markdown",
   "id": "247d670d",
   "metadata": {},
   "source": [
    "#### Min Max Scaler"
   ]
  },
  {
   "cell_type": "code",
   "execution_count": 5,
   "id": "4152c124",
   "metadata": {},
   "outputs": [
    {
     "data": {
      "text/plain": [
       "array([[0.14872225, 0.40598416],\n",
       "       [0.29631444, 0.45937225],\n",
       "       [0.83011887, 0.55998827],\n",
       "       [0.88291954, 0.5987093 ],\n",
       "       [0.41937405, 0.44030507],\n",
       "       [0.60170431, 0.73100616],\n",
       "       [0.30580892, 0.66324435],\n",
       "       [0.63824855, 0.4860663 ],\n",
       "       [0.58179384, 0.38926371],\n",
       "       [0.77261559, 0.58990906]])"
      ]
     },
     "execution_count": 5,
     "metadata": {},
     "output_type": "execute_result"
    }
   ],
   "source": [
    "## MinMaxScaler\n",
    "scaler = sklearn.preprocessing.MinMaxScaler()\n",
    "\n",
    "# Fit scaler to data\n",
    "scaler.fit(train[['taxamount', 'calculatedfinishedsquarefeet']])\n",
    "\n",
    "# Execute scaling\n",
    "scaled_taxamount = scaler.transform(train[['taxamount', 'calculatedfinishedsquarefeet']])\n",
    "scaled_taxamount[:10]"
   ]
  },
  {
   "cell_type": "code",
   "execution_count": 6,
   "id": "19456bf4",
   "metadata": {},
   "outputs": [],
   "source": [
    "# Create new columns for scaled \n",
    "train[['taxamount_scaled', 'calculatedfinishedsquarefeet_scaled']] = scaled_taxamount"
   ]
  },
  {
   "cell_type": "code",
   "execution_count": 7,
   "id": "ea126c7f",
   "metadata": {},
   "outputs": [
    {
     "data": {
      "text/html": [
       "<div>\n",
       "<style scoped>\n",
       "    .dataframe tbody tr th:only-of-type {\n",
       "        vertical-align: middle;\n",
       "    }\n",
       "\n",
       "    .dataframe tbody tr th {\n",
       "        vertical-align: top;\n",
       "    }\n",
       "\n",
       "    .dataframe thead th {\n",
       "        text-align: right;\n",
       "    }\n",
       "</style>\n",
       "<table border=\"1\" class=\"dataframe\">\n",
       "  <thead>\n",
       "    <tr style=\"text-align: right;\">\n",
       "      <th></th>\n",
       "      <th>bedroomcnt</th>\n",
       "      <th>bathroomcnt</th>\n",
       "      <th>calculatedfinishedsquarefeet</th>\n",
       "      <th>taxvaluedollarcnt</th>\n",
       "      <th>yearbuilt</th>\n",
       "      <th>taxamount</th>\n",
       "      <th>fips</th>\n",
       "      <th>taxamount_scaled</th>\n",
       "      <th>calculatedfinishedsquarefeet_scaled</th>\n",
       "    </tr>\n",
       "  </thead>\n",
       "  <tbody>\n",
       "    <tr>\n",
       "      <th>1462930</th>\n",
       "      <td>3</td>\n",
       "      <td>2</td>\n",
       "      <td>1385</td>\n",
       "      <td>123859</td>\n",
       "      <td>1956</td>\n",
       "      <td>1553.44</td>\n",
       "      <td>6059</td>\n",
       "      <td>0.148722</td>\n",
       "      <td>0.405984</td>\n",
       "    </tr>\n",
       "    <tr>\n",
       "      <th>1842132</th>\n",
       "      <td>4</td>\n",
       "      <td>2</td>\n",
       "      <td>1567</td>\n",
       "      <td>251569</td>\n",
       "      <td>1946</td>\n",
       "      <td>3074.99</td>\n",
       "      <td>6037</td>\n",
       "      <td>0.296314</td>\n",
       "      <td>0.459372</td>\n",
       "    </tr>\n",
       "    <tr>\n",
       "      <th>869730</th>\n",
       "      <td>4</td>\n",
       "      <td>2</td>\n",
       "      <td>1910</td>\n",
       "      <td>762153</td>\n",
       "      <td>1958</td>\n",
       "      <td>8578.06</td>\n",
       "      <td>6059</td>\n",
       "      <td>0.830119</td>\n",
       "      <td>0.559988</td>\n",
       "    </tr>\n",
       "    <tr>\n",
       "      <th>1306111</th>\n",
       "      <td>3</td>\n",
       "      <td>2</td>\n",
       "      <td>2042</td>\n",
       "      <td>751716</td>\n",
       "      <td>1936</td>\n",
       "      <td>9122.39</td>\n",
       "      <td>6037</td>\n",
       "      <td>0.882920</td>\n",
       "      <td>0.598709</td>\n",
       "    </tr>\n",
       "    <tr>\n",
       "      <th>431629</th>\n",
       "      <td>3</td>\n",
       "      <td>2</td>\n",
       "      <td>1502</td>\n",
       "      <td>351732</td>\n",
       "      <td>1956</td>\n",
       "      <td>4343.63</td>\n",
       "      <td>6037</td>\n",
       "      <td>0.419374</td>\n",
       "      <td>0.440305</td>\n",
       "    </tr>\n",
       "  </tbody>\n",
       "</table>\n",
       "</div>"
      ],
      "text/plain": [
       "         bedroomcnt  bathroomcnt  calculatedfinishedsquarefeet  \\\n",
       "1462930           3            2                          1385   \n",
       "1842132           4            2                          1567   \n",
       "869730            4            2                          1910   \n",
       "1306111           3            2                          2042   \n",
       "431629            3            2                          1502   \n",
       "\n",
       "         taxvaluedollarcnt  yearbuilt  taxamount  fips  taxamount_scaled  \\\n",
       "1462930             123859       1956    1553.44  6059          0.148722   \n",
       "1842132             251569       1946    3074.99  6037          0.296314   \n",
       "869730              762153       1958    8578.06  6059          0.830119   \n",
       "1306111             751716       1936    9122.39  6037          0.882920   \n",
       "431629              351732       1956    4343.63  6037          0.419374   \n",
       "\n",
       "         calculatedfinishedsquarefeet_scaled  \n",
       "1462930                             0.405984  \n",
       "1842132                             0.459372  \n",
       "869730                              0.559988  \n",
       "1306111                             0.598709  \n",
       "431629                              0.440305  "
      ]
     },
     "execution_count": 7,
     "metadata": {},
     "output_type": "execute_result"
    }
   ],
   "source": [
    "train.head()"
   ]
  },
  {
   "cell_type": "code",
   "execution_count": 8,
   "id": "571c0a4d",
   "metadata": {},
   "outputs": [
    {
     "data": {
      "text/plain": [
       "<AxesSubplot:ylabel='Frequency'>"
      ]
     },
     "execution_count": 8,
     "metadata": {},
     "output_type": "execute_result"
    },
    {
     "data": {
      "image/png": "[encoded data removed]",
      "text/plain": [
       "<Figure size 720x720 with 1 Axes>"
      ]
     },
     "metadata": {
      "needs_background": "light"
     },
     "output_type": "display_data"
    }
   ],
   "source": [
    "plt.figure(figsize=(10,10))\n",
    "train.taxamount_scaled.plot.hist()\n",
    "train.calculatedfinishedsquarefeet_scaled.plot.hist()"
   ]
  },
  {
   "cell_type": "markdown",
   "id": "9db929e9",
   "metadata": {},
   "source": [
    "#### Standard Scaler"
   ]
  },
  {
   "cell_type": "code",
   "execution_count": 9,
   "id": "c2ec1522",
   "metadata": {},
   "outputs": [],
   "source": [
    "# Create standard scaler\n",
    "scaler = sklearn.preprocessing.StandardScaler()\n",
    "\n",
    "# fit scaler to column\n",
    "scaler.fit(train[['taxvaluedollarcnt']])\n",
    "\n",
    "# execute scaling\n",
    "train['taxvaluedollarcnt_scaled'] = scaler.transform(train[['taxvaluedollarcnt']])\n",
    "test['taxvaluedollarcnt_scaled'] = scaler.transform(test[['taxvaluedollarcnt']])\n",
    "validate['taxvaluedollarcnt_scaled'] = scaler.transform(validate[['taxvaluedollarcnt']])"
   ]
  },
  {
   "cell_type": "code",
   "execution_count": 10,
   "id": "7410c290",
   "metadata": {},
   "outputs": [
    {
     "data": {
      "text/html": [
       "<div>\n",
       "<style scoped>\n",
       "    .dataframe tbody tr th:only-of-type {\n",
       "        vertical-align: middle;\n",
       "    }\n",
       "\n",
       "    .dataframe tbody tr th {\n",
       "        vertical-align: top;\n",
       "    }\n",
       "\n",
       "    .dataframe thead th {\n",
       "        text-align: right;\n",
       "    }\n",
       "</style>\n",
       "<table border=\"1\" class=\"dataframe\">\n",
       "  <thead>\n",
       "    <tr style=\"text-align: right;\">\n",
       "      <th></th>\n",
       "      <th>bedroomcnt</th>\n",
       "      <th>bathroomcnt</th>\n",
       "      <th>calculatedfinishedsquarefeet</th>\n",
       "      <th>taxvaluedollarcnt</th>\n",
       "      <th>yearbuilt</th>\n",
       "      <th>taxamount</th>\n",
       "      <th>fips</th>\n",
       "      <th>taxamount_scaled</th>\n",
       "      <th>calculatedfinishedsquarefeet_scaled</th>\n",
       "      <th>taxvaluedollarcnt_scaled</th>\n",
       "    </tr>\n",
       "  </thead>\n",
       "  <tbody>\n",
       "    <tr>\n",
       "      <th>1462930</th>\n",
       "      <td>3</td>\n",
       "      <td>2</td>\n",
       "      <td>1385</td>\n",
       "      <td>123859</td>\n",
       "      <td>1956</td>\n",
       "      <td>1553.44</td>\n",
       "      <td>6059</td>\n",
       "      <td>0.148722</td>\n",
       "      <td>0.405984</td>\n",
       "      <td>-1.016402</td>\n",
       "    </tr>\n",
       "    <tr>\n",
       "      <th>1842132</th>\n",
       "      <td>4</td>\n",
       "      <td>2</td>\n",
       "      <td>1567</td>\n",
       "      <td>251569</td>\n",
       "      <td>1946</td>\n",
       "      <td>3074.99</td>\n",
       "      <td>6037</td>\n",
       "      <td>0.296314</td>\n",
       "      <td>0.459372</td>\n",
       "      <td>-0.371135</td>\n",
       "    </tr>\n",
       "    <tr>\n",
       "      <th>869730</th>\n",
       "      <td>4</td>\n",
       "      <td>2</td>\n",
       "      <td>1910</td>\n",
       "      <td>762153</td>\n",
       "      <td>1958</td>\n",
       "      <td>8578.06</td>\n",
       "      <td>6059</td>\n",
       "      <td>0.830119</td>\n",
       "      <td>0.559988</td>\n",
       "      <td>2.208638</td>\n",
       "    </tr>\n",
       "    <tr>\n",
       "      <th>1306111</th>\n",
       "      <td>3</td>\n",
       "      <td>2</td>\n",
       "      <td>2042</td>\n",
       "      <td>751716</td>\n",
       "      <td>1936</td>\n",
       "      <td>9122.39</td>\n",
       "      <td>6037</td>\n",
       "      <td>0.882920</td>\n",
       "      <td>0.598709</td>\n",
       "      <td>2.155904</td>\n",
       "    </tr>\n",
       "    <tr>\n",
       "      <th>431629</th>\n",
       "      <td>3</td>\n",
       "      <td>2</td>\n",
       "      <td>1502</td>\n",
       "      <td>351732</td>\n",
       "      <td>1956</td>\n",
       "      <td>4343.63</td>\n",
       "      <td>6037</td>\n",
       "      <td>0.419374</td>\n",
       "      <td>0.440305</td>\n",
       "      <td>0.134948</td>\n",
       "    </tr>\n",
       "  </tbody>\n",
       "</table>\n",
       "</div>"
      ],
      "text/plain": [
       "         bedroomcnt  bathroomcnt  calculatedfinishedsquarefeet  \\\n",
       "1462930           3            2                          1385   \n",
       "1842132           4            2                          1567   \n",
       "869730            4            2                          1910   \n",
       "1306111           3            2                          2042   \n",
       "431629            3            2                          1502   \n",
       "\n",
       "         taxvaluedollarcnt  yearbuilt  taxamount  fips  taxamount_scaled  \\\n",
       "1462930             123859       1956    1553.44  6059          0.148722   \n",
       "1842132             251569       1946    3074.99  6037          0.296314   \n",
       "869730              762153       1958    8578.06  6059          0.830119   \n",
       "1306111             751716       1936    9122.39  6037          0.882920   \n",
       "431629              351732       1956    4343.63  6037          0.419374   \n",
       "\n",
       "         calculatedfinishedsquarefeet_scaled  taxvaluedollarcnt_scaled  \n",
       "1462930                             0.405984                 -1.016402  \n",
       "1842132                             0.459372                 -0.371135  \n",
       "869730                              0.559988                  2.208638  \n",
       "1306111                             0.598709                  2.155904  \n",
       "431629                              0.440305                  0.134948  "
      ]
     },
     "execution_count": 10,
     "metadata": {},
     "output_type": "execute_result"
    }
   ],
   "source": [
    "train.head()"
   ]
  },
  {
   "cell_type": "code",
   "execution_count": 11,
   "id": "bae8fd71",
   "metadata": {},
   "outputs": [
    {
     "data": {
      "image/png": "[encoded data removed]",
      "text/plain": [
       "<Figure size 936x432 with 2 Axes>"
      ]
     },
     "metadata": {
      "needs_background": "light"
     },
     "output_type": "display_data"
    }
   ],
   "source": [
    "# plot both scaled and unscaled\n",
    "plt.figure(figsize=(13, 6))\n",
    "\n",
    "plt.subplot(121)\n",
    "train.taxvaluedollarcnt.plot.hist(title='Original')\n",
    "\n",
    "plt.subplot(122)\n",
    "train.taxvaluedollarcnt_scaled.plot.hist(title='Standard Scaled');"
   ]
  },
  {
   "cell_type": "markdown",
   "id": "d9a31eb2",
   "metadata": {},
   "source": [
    "#### Robust Scaler"
   ]
  },
  {
   "cell_type": "code",
   "execution_count": 12,
   "id": "be69fccc",
   "metadata": {},
   "outputs": [
    {
     "data": {
      "image/png": "[encoded data removed]",
      "text/plain": [
       "<Figure size 936x432 with 2 Axes>"
      ]
     },
     "metadata": {
      "needs_background": "light"
     },
     "output_type": "display_data"
    }
   ],
   "source": [
    "# create robust scaler\n",
    "scaler = sklearn.preprocessing.RobustScaler()\n",
    "\n",
    "# fit scaler to column\n",
    "scaler.fit(train[['taxamount']])\n",
    "\n",
    "# execute scaling\n",
    "train['taxamount_scaled'] = scaler.transform(train[['taxamount']])\n",
    "test['taxamount_scaled'] = scaler.transform(test[['taxamount']])\n",
    "validate['taxamount_scaled'] = scaler.transform(validate[['taxamount']])\n",
    "\n",
    "#plot the scaled and unscaled distributions\n",
    "plt.figure(figsize=(13, 6))\n",
    "plt.subplot(121)\n",
    "train.taxamount.plot.hist(title='Original')\n",
    "plt.subplot(122)\n",
    "train.taxamount_scaled.plot.hist(title='Robust Scaled');"
   ]
  },
  {
   "cell_type": "markdown",
   "id": "9b817a03",
   "metadata": {},
   "source": [
    "### 2. Apply the .inverse_transform method to your scaled data. Is the resulting dataset the exact same as the original data?"
   ]
  },
  {
   "cell_type": "code",
   "execution_count": 13,
   "id": "16868687",
   "metadata": {},
   "outputs": [],
   "source": [
    "# Create standard scaler\n",
    "scaler = sklearn.preprocessing.StandardScaler()\n",
    "\n",
    "# fit scaler to column\n",
    "scaler.fit(train[['taxvaluedollarcnt']])\n",
    "\n",
    "# execute scaling\n",
    "train['taxvaluedollarcnt_scaled'] = scaler.transform(train[['taxvaluedollarcnt']])\n",
    "test['taxvaluedollarcnt_scaled'] = scaler.transform(test[['taxvaluedollarcnt']])\n",
    "validate['taxvaluedollarcnt_scaled'] = scaler.transform(validate[['taxvaluedollarcnt']])"
   ]
  },
  {
   "cell_type": "code",
   "execution_count": 14,
   "id": "ca35f47b",
   "metadata": {},
   "outputs": [],
   "source": [
    "train['taxvaluedollarcnt_unscaled'] = scaler.inverse_transform(train.taxvaluedollarcnt_scaled)"
   ]
  },
  {
   "cell_type": "code",
   "execution_count": 15,
   "id": "708b36ef",
   "metadata": {},
   "outputs": [
    {
     "data": {
      "text/html": [
       "<div>\n",
       "<style scoped>\n",
       "    .dataframe tbody tr th:only-of-type {\n",
       "        vertical-align: middle;\n",
       "    }\n",
       "\n",
       "    .dataframe tbody tr th {\n",
       "        vertical-align: top;\n",
       "    }\n",
       "\n",
       "    .dataframe thead th {\n",
       "        text-align: right;\n",
       "    }\n",
       "</style>\n",
       "<table border=\"1\" class=\"dataframe\">\n",
       "  <thead>\n",
       "    <tr style=\"text-align: right;\">\n",
       "      <th></th>\n",
       "      <th>bedroomcnt</th>\n",
       "      <th>bathroomcnt</th>\n",
       "      <th>calculatedfinishedsquarefeet</th>\n",
       "      <th>taxvaluedollarcnt</th>\n",
       "      <th>yearbuilt</th>\n",
       "      <th>taxamount</th>\n",
       "      <th>fips</th>\n",
       "      <th>taxamount_scaled</th>\n",
       "      <th>calculatedfinishedsquarefeet_scaled</th>\n",
       "      <th>taxvaluedollarcnt_scaled</th>\n",
       "      <th>taxvaluedollarcnt_unscaled</th>\n",
       "    </tr>\n",
       "  </thead>\n",
       "  <tbody>\n",
       "    <tr>\n",
       "      <th>1462930</th>\n",
       "      <td>3</td>\n",
       "      <td>2</td>\n",
       "      <td>1385</td>\n",
       "      <td>123859</td>\n",
       "      <td>1956</td>\n",
       "      <td>1553.44</td>\n",
       "      <td>6059</td>\n",
       "      <td>-0.698768</td>\n",
       "      <td>0.405984</td>\n",
       "      <td>-1.016402</td>\n",
       "      <td>123859.0</td>\n",
       "    </tr>\n",
       "    <tr>\n",
       "      <th>1842132</th>\n",
       "      <td>4</td>\n",
       "      <td>2</td>\n",
       "      <td>1567</td>\n",
       "      <td>251569</td>\n",
       "      <td>1946</td>\n",
       "      <td>3074.99</td>\n",
       "      <td>6037</td>\n",
       "      <td>-0.210492</td>\n",
       "      <td>0.459372</td>\n",
       "      <td>-0.371135</td>\n",
       "      <td>251569.0</td>\n",
       "    </tr>\n",
       "    <tr>\n",
       "      <th>869730</th>\n",
       "      <td>4</td>\n",
       "      <td>2</td>\n",
       "      <td>1910</td>\n",
       "      <td>762153</td>\n",
       "      <td>1958</td>\n",
       "      <td>8578.06</td>\n",
       "      <td>6059</td>\n",
       "      <td>1.555480</td>\n",
       "      <td>0.559988</td>\n",
       "      <td>2.208638</td>\n",
       "      <td>762153.0</td>\n",
       "    </tr>\n",
       "  </tbody>\n",
       "</table>\n",
       "</div>"
      ],
      "text/plain": [
       "         bedroomcnt  bathroomcnt  calculatedfinishedsquarefeet  \\\n",
       "1462930           3            2                          1385   \n",
       "1842132           4            2                          1567   \n",
       "869730            4            2                          1910   \n",
       "\n",
       "         taxvaluedollarcnt  yearbuilt  taxamount  fips  taxamount_scaled  \\\n",
       "1462930             123859       1956    1553.44  6059         -0.698768   \n",
       "1842132             251569       1946    3074.99  6037         -0.210492   \n",
       "869730              762153       1958    8578.06  6059          1.555480   \n",
       "\n",
       "         calculatedfinishedsquarefeet_scaled  taxvaluedollarcnt_scaled  \\\n",
       "1462930                             0.405984                 -1.016402   \n",
       "1842132                             0.459372                 -0.371135   \n",
       "869730                              0.559988                  2.208638   \n",
       "\n",
       "         taxvaluedollarcnt_unscaled  \n",
       "1462930                    123859.0  \n",
       "1842132                    251569.0  \n",
       "869730                     762153.0  "
      ]
     },
     "execution_count": 15,
     "metadata": {},
     "output_type": "execute_result"
    }
   ],
   "source": [
    "train.head(3)"
   ]
  },
  {
   "cell_type": "markdown",
   "id": "b6e1558d",
   "metadata": {},
   "source": [
    "The inverse scaled column is the same value, but is now a float"
   ]
  },
  {
   "cell_type": "markdown",
   "id": "4b8a01a6",
   "metadata": {},
   "source": [
    "### 3. Read the documentation for sklearn's QuantileTransformer. Use normal for the output_distribution and apply this scaler to your data. Visualize the result of your data scaling."
   ]
  },
  {
   "cell_type": "code",
   "execution_count": 16,
   "id": "e77149e3",
   "metadata": {},
   "outputs": [],
   "source": [
    "sklearn.preprocessing.QuantileTransformer?"
   ]
  },
  {
   "cell_type": "code",
   "execution_count": 17,
   "id": "e740fb6b",
   "metadata": {},
   "outputs": [
    {
     "data": {
      "image/png": "[encoded data removed]",
      "text/plain": [
       "<Figure size 720x720 with 2 Axes>"
      ]
     },
     "metadata": {
      "needs_background": "light"
     },
     "output_type": "display_data"
    }
   ],
   "source": [
    "# create quantile transformer with normal for output_distribution\n",
    "scaler = sklearn.preprocessing.QuantileTransformer(output_distribution='normal')\n",
    "\n",
    "# fit scaler to column\n",
    "scaler.fit(train[['taxamount']])\n",
    "\n",
    "# execute scaling\n",
    "train['taxamount_scaled'] = scaler.transform(train[['taxamount']])\n",
    "test['taxamount_scaled'] = scaler.transform(test[['taxamount']])\n",
    "validate['taxamount_scaled'] = scaler.transform(validate[['taxamount']])\n",
    "\n",
    "#plot the scaled and unscaled distribution\n",
    "plt.figure(figsize=(10,10))\n",
    "plt.subplot(121)\n",
    "train.taxamount.plot.hist(title='Original')\n",
    "plt.subplot(122)\n",
    "train.taxamount_scaled.plot.hist(title='Quantile Transformed to Normal');"
   ]
  },
  {
   "cell_type": "markdown",
   "id": "e0afc2a2",
   "metadata": {},
   "source": [
    "### 4. Use the QuantileTransformer, but omit the output_distribution argument. Visualize your results. What do you notice?"
   ]
  },
  {
   "cell_type": "code",
   "execution_count": 18,
   "id": "47083037",
   "metadata": {},
   "outputs": [
    {
     "data": {
      "image/png": "[encoded data removed]",
      "text/plain": [
       "<Figure size 720x720 with 2 Axes>"
      ]
     },
     "metadata": {
      "needs_background": "light"
     },
     "output_type": "display_data"
    }
   ],
   "source": [
    "# create quantile transformer with default arguments\n",
    "scaler = sklearn.preprocessing.QuantileTransformer()\n",
    "\n",
    "# fit scaler to column\n",
    "scaler.fit(train[['taxamount']])\n",
    "\n",
    "# execute scaling\n",
    "train['taxamount_scaled'] = scaler.transform(train[['taxamount']])\n",
    "test['taxamount_scaled'] = scaler.transform(test[['taxamount']])\n",
    "validate['taxamount_scaled'] = scaler.transform(validate[['taxamount']])\n",
    "\n",
    "#plot the scaled and unscaled distribution\n",
    "plt.figure(figsize=(10,10))\n",
    "plt.subplot(121)\n",
    "train.taxamount.plot.hist(title='Original')\n",
    "plt.subplot(122)\n",
    "train.taxamount_scaled.plot.hist(title='Quantile Transformed to Normal');"
   ]
  },
  {
   "cell_type": "markdown",
   "id": "0c8ad45e",
   "metadata": {},
   "source": [
    "The normal argument creates a normal distrubution of the data while the default is a uniform distribution"
   ]
  },
  {
   "cell_type": "markdown",
   "id": "b076e559",
   "metadata": {},
   "source": [
    "### 5. Based on the work you've done, choose a scaling method for your dataset. Write a function within your prepare.py that accepts as input the train, validate, and test data splits, and returns the scaled versions of each. Be sure to only learn the parameters for scaling from your training data!"
   ]
  },
  {
   "cell_type": "code",
   "execution_count": 19,
   "id": "49112a87",
   "metadata": {},
   "outputs": [],
   "source": [
    "# fresh dataset\n",
    "train, validate, test = wrangle_zillow()"
   ]
  },
  {
   "cell_type": "code",
   "execution_count": 20,
   "id": "eb615d50",
   "metadata": {},
   "outputs": [
    {
     "data": {
      "text/html": [
       "<div>\n",
       "<style scoped>\n",
       "    .dataframe tbody tr th:only-of-type {\n",
       "        vertical-align: middle;\n",
       "    }\n",
       "\n",
       "    .dataframe tbody tr th {\n",
       "        vertical-align: top;\n",
       "    }\n",
       "\n",
       "    .dataframe thead th {\n",
       "        text-align: right;\n",
       "    }\n",
       "</style>\n",
       "<table border=\"1\" class=\"dataframe\">\n",
       "  <thead>\n",
       "    <tr style=\"text-align: right;\">\n",
       "      <th></th>\n",
       "      <th>bedroomcnt</th>\n",
       "      <th>bathroomcnt</th>\n",
       "      <th>calculatedfinishedsquarefeet</th>\n",
       "      <th>taxvaluedollarcnt</th>\n",
       "      <th>yearbuilt</th>\n",
       "      <th>taxamount</th>\n",
       "      <th>fips</th>\n",
       "    </tr>\n",
       "  </thead>\n",
       "  <tbody>\n",
       "    <tr>\n",
       "      <th>1462930</th>\n",
       "      <td>3</td>\n",
       "      <td>2</td>\n",
       "      <td>1385</td>\n",
       "      <td>123859</td>\n",
       "      <td>1956</td>\n",
       "      <td>1553.44</td>\n",
       "      <td>6059</td>\n",
       "    </tr>\n",
       "    <tr>\n",
       "      <th>1842132</th>\n",
       "      <td>4</td>\n",
       "      <td>2</td>\n",
       "      <td>1567</td>\n",
       "      <td>251569</td>\n",
       "      <td>1946</td>\n",
       "      <td>3074.99</td>\n",
       "      <td>6037</td>\n",
       "    </tr>\n",
       "    <tr>\n",
       "      <th>869730</th>\n",
       "      <td>4</td>\n",
       "      <td>2</td>\n",
       "      <td>1910</td>\n",
       "      <td>762153</td>\n",
       "      <td>1958</td>\n",
       "      <td>8578.06</td>\n",
       "      <td>6059</td>\n",
       "    </tr>\n",
       "    <tr>\n",
       "      <th>1306111</th>\n",
       "      <td>3</td>\n",
       "      <td>2</td>\n",
       "      <td>2042</td>\n",
       "      <td>751716</td>\n",
       "      <td>1936</td>\n",
       "      <td>9122.39</td>\n",
       "      <td>6037</td>\n",
       "    </tr>\n",
       "    <tr>\n",
       "      <th>431629</th>\n",
       "      <td>3</td>\n",
       "      <td>2</td>\n",
       "      <td>1502</td>\n",
       "      <td>351732</td>\n",
       "      <td>1956</td>\n",
       "      <td>4343.63</td>\n",
       "      <td>6037</td>\n",
       "    </tr>\n",
       "  </tbody>\n",
       "</table>\n",
       "</div>"
      ],
      "text/plain": [
       "         bedroomcnt  bathroomcnt  calculatedfinishedsquarefeet  \\\n",
       "1462930           3            2                          1385   \n",
       "1842132           4            2                          1567   \n",
       "869730            4            2                          1910   \n",
       "1306111           3            2                          2042   \n",
       "431629            3            2                          1502   \n",
       "\n",
       "         taxvaluedollarcnt  yearbuilt  taxamount  fips  \n",
       "1462930             123859       1956    1553.44  6059  \n",
       "1842132             251569       1946    3074.99  6037  \n",
       "869730              762153       1958    8578.06  6059  \n",
       "1306111             751716       1936    9122.39  6037  \n",
       "431629              351732       1956    4343.63  6037  "
      ]
     },
     "execution_count": 20,
     "metadata": {},
     "output_type": "execute_result"
    }
   ],
   "source": [
    "train.head()"
   ]
  },
  {
   "cell_type": "markdown",
   "id": "151f7f58",
   "metadata": {},
   "source": [
    "I will use minmax scaling to scale finished sqft with the taxamount and taxvaluedollarcnt"
   ]
  },
  {
   "cell_type": "code",
   "execution_count": 21,
   "id": "23eeeae3",
   "metadata": {},
   "outputs": [],
   "source": [
    "## MinMaxScaler\n",
    "scaler = sklearn.preprocessing.MinMaxScaler()\n",
    "\n",
    "# Fit scaler to data\n",
    "scaler.fit(train[['taxamount', 'taxvaluedollarcnt', 'calculatedfinishedsquarefeet']])\n",
    "\n",
    "# Execute scaling\n",
    "train[['taxamount_scaled', 'taxvaluedollarcnt_scaled', 'calculatedfinishedsquarefeet_scaled']] = scaler.transform(train[['taxamount', 'taxvaluedollarcnt', 'calculatedfinishedsquarefeet']])\n",
    "validate[['taxamount_scaled', 'taxvaluedollarcnt_scaled', 'calculatedfinishedsquarefeet_scaled']] = scaler.transform(validate[['taxamount', 'taxvaluedollarcnt', 'calculatedfinishedsquarefeet']])\n",
    "test[['taxamount_scaled', 'taxvaluedollarcnt_scaled', 'calculatedfinishedsquarefeet_scaled']] = scaler.transform(test[['taxamount', 'taxvaluedollarcnt', 'calculatedfinishedsquarefeet']])"
   ]
  },
  {
   "cell_type": "code",
   "execution_count": null,
   "id": "f7f0268c",
   "metadata": {},
   "outputs": [],
   "source": []
  },
  {
   "cell_type": "code",
   "execution_count": 22,
   "id": "1cc38590",
   "metadata": {},
   "outputs": [
    {
     "data": {
      "text/plain": [
       "<AxesSubplot:ylabel='Frequency'>"
      ]
     },
     "execution_count": 22,
     "metadata": {},
     "output_type": "execute_result"
    },
    {
     "data": {
      "image/png": "[encoded data removed]",
      "text/plain": [
       "<Figure size 720x720 with 1 Axes>"
      ]
     },
     "metadata": {
      "needs_background": "light"
     },
     "output_type": "display_data"
    }
   ],
   "source": [
    "plt.figure(figsize=(10,10))\n",
    "train.calculatedfinishedsquarefeet_scaled.plot.hist()\n",
    "train.taxvaluedollarcnt_scaled.plot.hist()\n",
    "train.taxamount_scaled.plot.hist()"
   ]
  },
  {
   "cell_type": "code",
   "execution_count": 23,
   "id": "52a17428",
   "metadata": {},
   "outputs": [],
   "source": [
    "def scale_zillow(train, validate, test):\n",
    "    '''\n",
    "    Takes train, validate, test datasets as an argument and returns the dataframes with\n",
    "    taxamount, taxvaluedollarcnt, and calculatedfinishedsquarefeet scaled columns.\n",
    "    '''\n",
    "    ## MinMaxScaler\n",
    "    scaler = sklearn.preprocessing.MinMaxScaler()\n",
    "\n",
    "    # Fit scaler to data\n",
    "    scaler.fit(train[['taxamount', 'taxvaluedollarcnt', 'calculatedfinishedsquarefeet']])\n",
    "\n",
    "    # Execute scaling\n",
    "    train[['taxamount_scaled', 'taxvaluedollarcnt_scaled', 'calculatedfinishedsquarefeet_scaled']] = scaler.transform(train[['taxamount', 'taxvaluedollarcnt', 'calculatedfinishedsquarefeet']])\n",
    "    validate[['taxamount_scaled', 'taxvaluedollarcnt_scaled', 'calculatedfinishedsquarefeet_scaled']] = scaler.transform(validate[['taxamount', 'taxvaluedollarcnt', 'calculatedfinishedsquarefeet']])\n",
    "    test[['taxamount_scaled', 'taxvaluedollarcnt_scaled', 'calculatedfinishedsquarefeet_scaled']] = scaler.transform(test[['taxamount', 'taxvaluedollarcnt', 'calculatedfinishedsquarefeet']])\n",
    "    return train, validate, test\n",
    "\n",
    "## Added to wrangle.py"
   ]
  },
  {
   "cell_type": "code",
   "execution_count": 35,
   "id": "4957f8a2",
   "metadata": {},
   "outputs": [],
   "source": [
    "### test function from module\n",
    "from wrangle import scale_zillow\n",
    "\n",
    "train, validate, test = wrangle_zillow()\n",
    "train, validate, test = scale_zillow(train, validate, test)\n"
   ]
  },
  {
   "cell_type": "code",
   "execution_count": 36,
   "id": "0ce738e5",
   "metadata": {},
   "outputs": [
    {
     "data": {
      "text/html": [
       "<div>\n",
       "<style scoped>\n",
       "    .dataframe tbody tr th:only-of-type {\n",
       "        vertical-align: middle;\n",
       "    }\n",
       "\n",
       "    .dataframe tbody tr th {\n",
       "        vertical-align: top;\n",
       "    }\n",
       "\n",
       "    .dataframe thead th {\n",
       "        text-align: right;\n",
       "    }\n",
       "</style>\n",
       "<table border=\"1\" class=\"dataframe\">\n",
       "  <thead>\n",
       "    <tr style=\"text-align: right;\">\n",
       "      <th></th>\n",
       "      <th>bedroomcnt</th>\n",
       "      <th>bathroomcnt</th>\n",
       "      <th>calculatedfinishedsquarefeet</th>\n",
       "      <th>taxvaluedollarcnt</th>\n",
       "      <th>yearbuilt</th>\n",
       "      <th>taxamount</th>\n",
       "      <th>fips</th>\n",
       "      <th>taxamount_scaled</th>\n",
       "      <th>taxvaluedollarcnt_scaled</th>\n",
       "      <th>calculatedfinishedsquarefeet_scaled</th>\n",
       "    </tr>\n",
       "  </thead>\n",
       "  <tbody>\n",
       "    <tr>\n",
       "      <th>1462930</th>\n",
       "      <td>3</td>\n",
       "      <td>2</td>\n",
       "      <td>1385</td>\n",
       "      <td>123859</td>\n",
       "      <td>1956</td>\n",
       "      <td>1553.44</td>\n",
       "      <td>6059</td>\n",
       "      <td>0.148722</td>\n",
       "      <td>0.130229</td>\n",
       "      <td>0.405984</td>\n",
       "    </tr>\n",
       "    <tr>\n",
       "      <th>1842132</th>\n",
       "      <td>4</td>\n",
       "      <td>2</td>\n",
       "      <td>1567</td>\n",
       "      <td>251569</td>\n",
       "      <td>1946</td>\n",
       "      <td>3074.99</td>\n",
       "      <td>6037</td>\n",
       "      <td>0.296314</td>\n",
       "      <td>0.264531</td>\n",
       "      <td>0.459372</td>\n",
       "    </tr>\n",
       "    <tr>\n",
       "      <th>869730</th>\n",
       "      <td>4</td>\n",
       "      <td>2</td>\n",
       "      <td>1910</td>\n",
       "      <td>762153</td>\n",
       "      <td>1958</td>\n",
       "      <td>8578.06</td>\n",
       "      <td>6059</td>\n",
       "      <td>0.830119</td>\n",
       "      <td>0.801469</td>\n",
       "      <td>0.559988</td>\n",
       "    </tr>\n",
       "    <tr>\n",
       "      <th>1306111</th>\n",
       "      <td>3</td>\n",
       "      <td>2</td>\n",
       "      <td>2042</td>\n",
       "      <td>751716</td>\n",
       "      <td>1936</td>\n",
       "      <td>9122.39</td>\n",
       "      <td>6037</td>\n",
       "      <td>0.882920</td>\n",
       "      <td>0.790493</td>\n",
       "      <td>0.598709</td>\n",
       "    </tr>\n",
       "    <tr>\n",
       "      <th>431629</th>\n",
       "      <td>3</td>\n",
       "      <td>2</td>\n",
       "      <td>1502</td>\n",
       "      <td>351732</td>\n",
       "      <td>1956</td>\n",
       "      <td>4343.63</td>\n",
       "      <td>6037</td>\n",
       "      <td>0.419374</td>\n",
       "      <td>0.369864</td>\n",
       "      <td>0.440305</td>\n",
       "    </tr>\n",
       "  </tbody>\n",
       "</table>\n",
       "</div>"
      ],
      "text/plain": [
       "         bedroomcnt  bathroomcnt  calculatedfinishedsquarefeet  \\\n",
       "1462930           3            2                          1385   \n",
       "1842132           4            2                          1567   \n",
       "869730            4            2                          1910   \n",
       "1306111           3            2                          2042   \n",
       "431629            3            2                          1502   \n",
       "\n",
       "         taxvaluedollarcnt  yearbuilt  taxamount  fips  taxamount_scaled  \\\n",
       "1462930             123859       1956    1553.44  6059          0.148722   \n",
       "1842132             251569       1946    3074.99  6037          0.296314   \n",
       "869730              762153       1958    8578.06  6059          0.830119   \n",
       "1306111             751716       1936    9122.39  6037          0.882920   \n",
       "431629              351732       1956    4343.63  6037          0.419374   \n",
       "\n",
       "         taxvaluedollarcnt_scaled  calculatedfinishedsquarefeet_scaled  \n",
       "1462930                  0.130229                             0.405984  \n",
       "1842132                  0.264531                             0.459372  \n",
       "869730                   0.801469                             0.559988  \n",
       "1306111                  0.790493                             0.598709  \n",
       "431629                   0.369864                             0.440305  "
      ]
     },
     "execution_count": 36,
     "metadata": {},
     "output_type": "execute_result"
    }
   ],
   "source": [
    "train.head()"
   ]
  },
  {
   "cell_type": "code",
   "execution_count": null,
   "id": "ef07fb0d",
   "metadata": {},
   "outputs": [],
   "source": []
  }
 ],
 "metadata": {
  "kernelspec": {
   "display_name": "Python 3",
   "language": "python",
   "name": "python3"
  },
  "language_info": {
   "codemirror_mode": {
    "name": "ipython",
    "version": 3
   },
   "file_extension": ".py",
   "mimetype": "text/x-python",
   "name": "python",
   "nbconvert_exporter": "python",
   "pygments_lexer": "ipython3",
   "version": "3.8.8"
  }
 },
 "nbformat": 4,
 "nbformat_minor": 5
}
